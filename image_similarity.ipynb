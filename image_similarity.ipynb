{
 "cells": [
  {
   "cell_type": "markdown",
   "id": "5f22de26",
   "metadata": {},
   "source": [
    "## 1. Настройка среды и загрузка библиотек"
   ]
  },
  {
   "cell_type": "code",
   "execution_count": null,
   "id": "2b3e9b8a",
   "metadata": {},
   "outputs": [],
   "source": [
    "import os\n",
    "import glob\n",
    "from PIL import Image\n",
    "import numpy as np\n",
    "import pandas as pd\n",
    "from tqdm.auto import tqdm\n",
    "\n",
    "import torch\n",
    "import torchvision.transforms as T\n",
    "import torchvision.models as models\n",
    "from sklearn.metrics.pairwise import cosine_similarity"
   ]
  },
  {
   "cell_type": "code",
   "execution_count": null,
   "id": "1173af24",
   "metadata": {},
   "outputs": [],
   "source": [
    "DEVICE = torch.device(\"cuda\" if torch.cuda.is_available() else \"cpu\")\n",
    "print(f\"Используется устройство: {DEVICE}\")"
   ]
  },
  {
   "cell_type": "markdown",
   "id": "8db2551b",
   "metadata": {},
   "source": [
    "## 2. Подготовка данных"
   ]
  },
  {
   "cell_type": "code",
   "execution_count": null,
   "id": "e7f938d9",
   "metadata": {},
   "outputs": [],
   "source": [
    "IMAGE_DIR = \"images_data\" \n",
    "\n",
    "assert  os.path.exists(IMAGE_DIR)\n",
    "    \n",
    "\n",
    "image_files = sorted([os.path.basename(f) for f in glob.glob(os.path.join(IMAGE_DIR, \"*.png\"))])\n",
    "print(f\"Найдено {len(image_files)} изображений.\")\n",
    "if image_files:\n",
    "    print(f\"Примеры имен файлов: {image_files[:5]}\")\n",
    "else:\n",
    "    print(f\"Изображения не найдены в {IMAGE_DIR}. Проверьте путь и содержимое архива.\")"
   ]
  },
  {
   "cell_type": "markdown",
   "id": "4a05e36e",
   "metadata": {},
   "source": [
    "## 3. Извлечение признаков"
   ]
  },
  {
   "cell_type": "code",
   "execution_count": null,
   "id": "e395eaad",
   "metadata": {},
   "outputs": [],
   "source": [
    "model = models.resnet50(weights=models.ResNet50_Weights.IMAGENET1K_V2)\n",
    "# Удаляем последний классификационный слой, чтобы получить признаки\n",
    "model = torch.nn.Sequential(*(list(model.children())[:-1]))\n",
    "model.eval()\n",
    "model.to(DEVICE)\n",
    "\n",
    "print(\"Модель ResNet50 загружена и готова к извлечению признаков.\")\n"
   ]
  },
  {
   "cell_type": "code",
   "execution_count": null,
   "id": "ccb45c44",
   "metadata": {},
   "outputs": [],
   "source": [
    "preprocess = T.Compose([\n",
    "    T.Resize(256),\n",
    "    T.CenterCrop(224),\n",
    "    T.ToTensor(),\n",
    "    T.Normalize(mean=[0.485, 0.456, 0.406], std=[0.229, 0.224, 0.225]),\n",
    "])"
   ]
  },
  {
   "cell_type": "code",
   "execution_count": null,
   "id": "56dab935",
   "metadata": {},
   "outputs": [],
   "source": [
    "def get_embedding(image_path, model, preprocess_fn, device):\n",
    "    try:\n",
    "        img = Image.open(image_path).convert('RGB')\n",
    "        img_t = preprocess_fn(img)\n",
    "        batch_t = torch.unsqueeze(img_t, 0).to(device)\n",
    "\n",
    "        with torch.no_grad():\n",
    "            embedding = model(batch_t)\n",
    "\n",
    "        embedding_np = embedding.squeeze().cpu().numpy()\n",
    "        return embedding_np\n",
    "    except Exception as e:\n",
    "        print(f\"Ошибка при обработке {image_path}: {e}\")\n",
    "\n",
    "        return np.zeros(2048)"
   ]
  },
  {
   "cell_type": "code",
   "execution_count": null,
   "id": "df620969",
   "metadata": {},
   "outputs": [],
   "source": [
    "embeddings = {}\n",
    "if not image_files:\n",
    "    print(\"Список файлов изображений пуст. Пропуск извлечения признаков.\")\n",
    "else:\n",
    "    print(\"Начало извлечения признаков...\")\n",
    "    for filename in tqdm(image_files, desc=\"Извлечение признаков\"):\n",
    "        filepath = os.path.join(IMAGE_DIR, filename)\n",
    "        embeddings[filename] = get_embedding(filepath, model, preprocess, DEVICE)\n",
    "    print(f\"Извлечено {len(embeddings)} эмбеддингов.\")\n",
    "    if embeddings:\n",
    "        first_key = list(embeddings.keys())[0]\n",
    "        print(f\"Размерность эмбеддинга для {first_key}: {embeddings[first_key].shape}\")\n"
   ]
  },
  {
   "cell_type": "code",
   "execution_count": null,
   "id": "bf759531",
   "metadata": {},
   "outputs": [],
   "source": [
    "ordered_filenames = list(embeddings.keys())\n",
    "all_embeddings_np = np.array([embeddings[fn] for fn in ordered_filenames])\n",
    "similarity_matrix = cosine_similarity(all_embeddings_np)"
   ]
  },
  {
   "cell_type": "code",
   "execution_count": null,
   "id": "4666ee55",
   "metadata": {},
   "outputs": [],
   "source": [
    "K = 6 \n",
    "results = []\n",
    "for i, query_filename in tqdm(enumerate(ordered_filenames), total=len(ordered_filenames)):\n",
    "    similarities = similarity_matrix[i]\n",
    "    \n",
    "    sorted_indices = np.argsort(similarities)[::-1]\n",
    "    \n",
    "    recommended_files = []\n",
    "    for idx in sorted_indices:\n",
    "        \n",
    "        if ordered_filenames[idx] == query_filename:\n",
    "            continue\n",
    "        recommended_files.append(ordered_filenames[idx])\n",
    "        if len(recommended_files) == K:\n",
    "            break\n",
    "    \n",
    "    results.append({\n",
    "        \"filename\": query_filename,\n",
    "        \"ranking\": \" \".join(recommended_files)\n",
    "    })"
   ]
  }
 ],
 "metadata": {
  "kernelspec": {
   "display_name": ".venv",
   "language": "python",
   "name": "python3"
  },
  "language_info": {
   "name": "python",
   "version": "3.12.7"
  }
 },
 "nbformat": 4,
 "nbformat_minor": 5
}
